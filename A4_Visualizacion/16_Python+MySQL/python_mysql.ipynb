{
 "cells": [
  {
   "cell_type": "code",
   "execution_count": 1,
   "id": "a9a97d2a",
   "metadata": {
    "colab": {
     "base_uri": "https://localhost:8080/"
    },
    "id": "a9a97d2a",
    "outputId": "38317139-2793-4069-8a83-c8b58c5605dc"
   },
   "outputs": [
    {
     "name": "stdout",
     "output_type": "stream",
     "text": [
      "Collecting mysql-connector-python\n",
      "  Obtaining dependency information for mysql-connector-python from https://files.pythonhosted.org/packages/26/20/5a3bba5751e6fd5da6d2dd759e398f23ed43525fbb4729eda06df929498e/mysql_connector_python-8.3.0-cp311-cp311-macosx_13_0_arm64.whl.metadata\n",
      "  Downloading mysql_connector_python-8.3.0-cp311-cp311-macosx_13_0_arm64.whl.metadata (1.9 kB)\n",
      "Downloading mysql_connector_python-8.3.0-cp311-cp311-macosx_13_0_arm64.whl (15.3 MB)\n",
      "\u001b[2K   \u001b[90m━━━━━━━━━━━━━━━━━━━━━━━━━━━━━━━━━━━━━━━━\u001b[0m \u001b[32m15.3/15.3 MB\u001b[0m \u001b[31m2.5 MB/s\u001b[0m eta \u001b[36m0:00:00\u001b[0m00:01\u001b[0m00:01\u001b[0m\n",
      "\u001b[?25hInstalling collected packages: mysql-connector-python\n",
      "Successfully installed mysql-connector-python-8.3.0\n",
      "Note: you may need to restart the kernel to use updated packages.\n"
     ]
    }
   ],
   "source": [
    "pip install mysql-connector-python"
   ]
  },
  {
   "cell_type": "code",
   "execution_count": 2,
   "id": "f4b6f075",
   "metadata": {
    "id": "f4b6f075"
   },
   "outputs": [],
   "source": [
    "import pandas as pd\n",
    "import mysql.connector"
   ]
  },
  {
   "cell_type": "code",
   "execution_count": 3,
   "id": "9162321b",
   "metadata": {
    "colab": {
     "base_uri": "https://localhost:8080/",
     "height": 206
    },
    "id": "9162321b",
    "outputId": "332c2670-d208-4417-a948-0d53e135f703"
   },
   "outputs": [
    {
     "data": {
      "text/html": [
       "<div>\n",
       "<style scoped>\n",
       "    .dataframe tbody tr th:only-of-type {\n",
       "        vertical-align: middle;\n",
       "    }\n",
       "\n",
       "    .dataframe tbody tr th {\n",
       "        vertical-align: top;\n",
       "    }\n",
       "\n",
       "    .dataframe thead th {\n",
       "        text-align: right;\n",
       "    }\n",
       "</style>\n",
       "<table border=\"1\" class=\"dataframe\">\n",
       "  <thead>\n",
       "    <tr style=\"text-align: right;\">\n",
       "      <th></th>\n",
       "      <th>Date</th>\n",
       "      <th>Text</th>\n",
       "      <th>Latitude</th>\n",
       "      <th>Longitude</th>\n",
       "      <th>Sentiment</th>\n",
       "      <th>Language</th>\n",
       "    </tr>\n",
       "  </thead>\n",
       "  <tbody>\n",
       "    <tr>\n",
       "      <th>0</th>\n",
       "      <td>2022-06-20 00:00:00-05:00</td>\n",
       "      <td>Pues resulta que mi hermano se rajo a entrenar...</td>\n",
       "      <td>32.332876</td>\n",
       "      <td>-116.929102</td>\n",
       "      <td>negativo</td>\n",
       "      <td>Español</td>\n",
       "    </tr>\n",
       "    <tr>\n",
       "      <th>1</th>\n",
       "      <td>2022-06-20 00:00:01-05:00</td>\n",
       "      <td>81.9F (Feels: 87.0F) - Humidity: 74% - Wind: 3...</td>\n",
       "      <td>29.875016</td>\n",
       "      <td>-92.218675</td>\n",
       "      <td>neutro</td>\n",
       "      <td>Inglés</td>\n",
       "    </tr>\n",
       "    <tr>\n",
       "      <th>2</th>\n",
       "      <td>2022-06-20 00:00:01-05:00</td>\n",
       "      <td>Casi termina el día, pero continúa toda la vid...</td>\n",
       "      <td>19.652724</td>\n",
       "      <td>-101.275770</td>\n",
       "      <td>indeterminado</td>\n",
       "      <td>Italiano</td>\n",
       "    </tr>\n",
       "    <tr>\n",
       "      <th>3</th>\n",
       "      <td>2022-06-20 00:00:02-05:00</td>\n",
       "      <td>@_HANNO Muchas gracias</td>\n",
       "      <td>25.641718</td>\n",
       "      <td>-100.293592</td>\n",
       "      <td>positivo</td>\n",
       "      <td>Español</td>\n",
       "    </tr>\n",
       "    <tr>\n",
       "      <th>4</th>\n",
       "      <td>2022-06-20 00:00:03-05:00</td>\n",
       "      <td>Mmmmm tasty Pride MCC Ranboo, Eef and Sean tea...</td>\n",
       "      <td>30.086299</td>\n",
       "      <td>-97.844068</td>\n",
       "      <td>neutro</td>\n",
       "      <td>Inglés</td>\n",
       "    </tr>\n",
       "  </tbody>\n",
       "</table>\n",
       "</div>"
      ],
      "text/plain": [
       "                        Date  \\\n",
       "0  2022-06-20 00:00:00-05:00   \n",
       "1  2022-06-20 00:00:01-05:00   \n",
       "2  2022-06-20 00:00:01-05:00   \n",
       "3  2022-06-20 00:00:02-05:00   \n",
       "4  2022-06-20 00:00:03-05:00   \n",
       "\n",
       "                                                Text   Latitude   Longitude  \\\n",
       "0  Pues resulta que mi hermano se rajo a entrenar...  32.332876 -116.929102   \n",
       "1  81.9F (Feels: 87.0F) - Humidity: 74% - Wind: 3...  29.875016  -92.218675   \n",
       "2  Casi termina el día, pero continúa toda la vid...  19.652724 -101.275770   \n",
       "3                             @_HANNO Muchas gracias  25.641718 -100.293592   \n",
       "4  Mmmmm tasty Pride MCC Ranboo, Eef and Sean tea...  30.086299  -97.844068   \n",
       "\n",
       "       Sentiment  Language  \n",
       "0       negativo   Español  \n",
       "1         neutro    Inglés  \n",
       "2  indeterminado  Italiano  \n",
       "3       positivo   Español  \n",
       "4         neutro    Inglés  "
      ]
     },
     "execution_count": 3,
     "metadata": {},
     "output_type": "execute_result"
    }
   ],
   "source": [
    "df = pd.read_csv('datos_junio_2022.csv')\n",
    "df.head()"
   ]
  },
  {
   "cell_type": "code",
   "execution_count": 4,
   "id": "1286048d",
   "metadata": {
    "colab": {
     "base_uri": "https://localhost:8080/",
     "height": 206
    },
    "id": "1286048d",
    "outputId": "cd5ff9f4-9ea9-4663-a1a7-2c803ba97525"
   },
   "outputs": [
    {
     "data": {
      "text/html": [
       "<div>\n",
       "<style scoped>\n",
       "    .dataframe tbody tr th:only-of-type {\n",
       "        vertical-align: middle;\n",
       "    }\n",
       "\n",
       "    .dataframe tbody tr th {\n",
       "        vertical-align: top;\n",
       "    }\n",
       "\n",
       "    .dataframe thead th {\n",
       "        text-align: right;\n",
       "    }\n",
       "</style>\n",
       "<table border=\"1\" class=\"dataframe\">\n",
       "  <thead>\n",
       "    <tr style=\"text-align: right;\">\n",
       "      <th></th>\n",
       "      <th>Date</th>\n",
       "      <th>Text</th>\n",
       "      <th>Latitude</th>\n",
       "      <th>Longitude</th>\n",
       "      <th>Sentiment</th>\n",
       "      <th>Language</th>\n",
       "    </tr>\n",
       "  </thead>\n",
       "  <tbody>\n",
       "    <tr>\n",
       "      <th>154203</th>\n",
       "      <td>2022-06-21 10:21:40-05:00</td>\n",
       "      <td>@prim_amalia Lo secuestran</td>\n",
       "      <td>15.772467</td>\n",
       "      <td>-90.224221</td>\n",
       "      <td>neutro</td>\n",
       "      <td>Español</td>\n",
       "    </tr>\n",
       "    <tr>\n",
       "      <th>541478</th>\n",
       "      <td>2022-06-24 06:39:57-05:00</td>\n",
       "      <td>@kaesmiff06 Happy Birthday</td>\n",
       "      <td>29.417501</td>\n",
       "      <td>-98.540651</td>\n",
       "      <td>positivo</td>\n",
       "      <td>Inglés</td>\n",
       "    </tr>\n",
       "    <tr>\n",
       "      <th>362249</th>\n",
       "      <td>2022-06-22 20:25:43-05:00</td>\n",
       "      <td>Accident on the connector ramp cleared. in #Da...</td>\n",
       "      <td>32.923700</td>\n",
       "      <td>-96.756210</td>\n",
       "      <td>negativo</td>\n",
       "      <td>Inglés</td>\n",
       "    </tr>\n",
       "    <tr>\n",
       "      <th>980296</th>\n",
       "      <td>2022-06-27 15:15:53-05:00</td>\n",
       "      <td>@caitfemme THANK YOU SO MUCH MY GORGEOUS FRIEN...</td>\n",
       "      <td>31.793368</td>\n",
       "      <td>-106.417430</td>\n",
       "      <td>positivo</td>\n",
       "      <td>Inglés</td>\n",
       "    </tr>\n",
       "    <tr>\n",
       "      <th>930519</th>\n",
       "      <td>2022-06-27 07:07:28-05:00</td>\n",
       "      <td>Hace 4 años jamás hubiera pensado estar dónde ...</td>\n",
       "      <td>19.518656</td>\n",
       "      <td>-99.115891</td>\n",
       "      <td>negativo</td>\n",
       "      <td>Español</td>\n",
       "    </tr>\n",
       "  </tbody>\n",
       "</table>\n",
       "</div>"
      ],
      "text/plain": [
       "                             Date  \\\n",
       "154203  2022-06-21 10:21:40-05:00   \n",
       "541478  2022-06-24 06:39:57-05:00   \n",
       "362249  2022-06-22 20:25:43-05:00   \n",
       "980296  2022-06-27 15:15:53-05:00   \n",
       "930519  2022-06-27 07:07:28-05:00   \n",
       "\n",
       "                                                     Text   Latitude  \\\n",
       "154203                         @prim_amalia Lo secuestran  15.772467   \n",
       "541478                         @kaesmiff06 Happy Birthday  29.417501   \n",
       "362249  Accident on the connector ramp cleared. in #Da...  32.923700   \n",
       "980296  @caitfemme THANK YOU SO MUCH MY GORGEOUS FRIEN...  31.793368   \n",
       "930519  Hace 4 años jamás hubiera pensado estar dónde ...  19.518656   \n",
       "\n",
       "         Longitude Sentiment Language  \n",
       "154203  -90.224221    neutro  Español  \n",
       "541478  -98.540651  positivo   Inglés  \n",
       "362249  -96.756210  negativo   Inglés  \n",
       "980296 -106.417430  positivo   Inglés  \n",
       "930519  -99.115891  negativo  Español  "
      ]
     },
     "execution_count": 4,
     "metadata": {},
     "output_type": "execute_result"
    }
   ],
   "source": [
    "df2 = df.sample(2000)\n",
    "df2.head()"
   ]
  },
  {
   "cell_type": "code",
   "execution_count": 5,
   "id": "7e9f07a6",
   "metadata": {
    "colab": {
     "base_uri": "https://localhost:8080/",
     "height": 408
    },
    "id": "7e9f07a6",
    "outputId": "79092a47-701d-4858-9360-698c0537070d"
   },
   "outputs": [],
   "source": [
    "cnx = mysql.connector.connect(user='root', password='',host='localhost',database='pcdg')\n",
    "\n",
    "cursor = cnx.cursor()\n",
    "\n",
    "for index, row in df2.iterrows():\n",
    "    texto = row['Text']\n",
    "    texto = texto.replace(\"'\",\"\")\n",
    "    clase = row['Sentiment']\n",
    "    latitud = row['Latitude']\n",
    "    longitud = row['Longitude']\n",
    "    add_texto = (\"INSERT INTO textos (texto, clase, latitud, longitud)VALUES('\"+texto+\"','\"+clase+\"',\"+str(latitud)+\",\"+str(longitud)+\")\")\n",
    "    cursor.execute(add_texto)\n",
    "\n",
    "emp_no = cursor.lastrowid\n",
    "\n",
    "\n",
    "# Make sure data is committed to the database\n",
    "cnx.commit()\n",
    "\n",
    "cursor.close()\n",
    "cnx.close()"
   ]
  },
  {
   "cell_type": "code",
   "execution_count": null,
   "id": "d2d4a729",
   "metadata": {
    "id": "d2d4a729"
   },
   "outputs": [],
   "source": []
  }
 ],
 "metadata": {
  "colab": {
   "provenance": []
  },
  "kernelspec": {
   "display_name": "Python 3 (ipykernel)",
   "language": "python",
   "name": "python3"
  },
  "language_info": {
   "codemirror_mode": {
    "name": "ipython",
    "version": 3
   },
   "file_extension": ".py",
   "mimetype": "text/x-python",
   "name": "python",
   "nbconvert_exporter": "python",
   "pygments_lexer": "ipython3",
   "version": "3.11.4"
  }
 },
 "nbformat": 4,
 "nbformat_minor": 5
}
