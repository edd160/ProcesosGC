{
  "nbformat": 4,
  "nbformat_minor": 0,
  "metadata": {
    "colab": {
      "provenance": []
    },
    "kernelspec": {
      "name": "python3",
      "display_name": "Python 3"
    },
    "language_info": {
      "name": "python"
    }
  },
  "cells": [
    {
      "cell_type": "markdown",
      "source": [
        "# Extracción de tweets con scraper api"
      ],
      "metadata": {
        "id": "wYPaWhxwg23-"
      }
    },
    {
      "cell_type": "code",
      "execution_count": 1,
      "metadata": {
        "id": "5ihJ9vtm5nwp"
      },
      "outputs": [],
      "source": [
        "import requests\n",
        "import pandas as pd"
      ]
    },
    {
      "cell_type": "code",
      "source": [
        "twitter_data = []"
      ],
      "metadata": {
        "id": "OQFpFtDT5xTt"
      },
      "execution_count": 2,
      "outputs": []
    },
    {
      "cell_type": "code",
      "source": [
        "payload = {\n",
        "    'api_key': 'cd00f30bf1722a2e995e7a93fa7a5220',\n",
        "    'query': 'amlo',\n",
        "    'country_code': 'mx',\n",
        "    'num': '25'\n",
        "}\n",
        "\n",
        "response = requests.get('https://api.scraperapi.com/structured/twitter/search', params=payload)\n",
        "data = response.json()"
      ],
      "metadata": {
        "id": "gpWUoiEu5-Q7"
      },
      "execution_count": 3,
      "outputs": []
    },
    {
      "cell_type": "code",
      "source": [
        "data"
      ],
      "metadata": {
        "id": "m3altVKo_aAb"
      },
      "execution_count": null,
      "outputs": []
    },
    {
      "cell_type": "code",
      "source": [
        "data.keys()"
      ],
      "metadata": {
        "colab": {
          "base_uri": "https://localhost:8080/"
        },
        "id": "NvjTAhM16srm",
        "outputId": "06bda68e-189e-400b-f9d6-e6f8096ae178"
      },
      "execution_count": null,
      "outputs": [
        {
          "output_type": "execute_result",
          "data": {
            "text/plain": [
              "dict_keys(['search_information', 'organic_results', 'pagination'])"
            ]
          },
          "metadata": {},
          "execution_count": 5
        }
      ]
    },
    {
      "cell_type": "code",
      "source": [
        "data['search_information']"
      ],
      "metadata": {
        "colab": {
          "base_uri": "https://localhost:8080/"
        },
        "id": "q4oBgxnh6tWt",
        "outputId": "9ff2a4b8-eda3-43f1-94a5-315503eed867"
      },
      "execution_count": null,
      "outputs": [
        {
          "output_type": "execute_result",
          "data": {
            "text/plain": [
              "{'query_displayed': 'site:twitter.com \"amlo\"',\n",
              " 'total_results': 630000,\n",
              " 'time_taken_displayed': 0.34}"
            ]
          },
          "metadata": {},
          "execution_count": 6
        }
      ]
    },
    {
      "cell_type": "code",
      "source": [
        "data['organic_results']"
      ],
      "metadata": {
        "id": "oK-6txj2_YiK"
      },
      "execution_count": null,
      "outputs": []
    },
    {
      "cell_type": "code",
      "source": [
        "data['pagination']"
      ],
      "metadata": {
        "colab": {
          "base_uri": "https://localhost:8080/"
        },
        "id": "1U_axXc7_gGL",
        "outputId": "38520788-8d39-4d3b-ab29-d660cac2ff99"
      },
      "execution_count": null,
      "outputs": [
        {
          "output_type": "execute_result",
          "data": {
            "text/plain": [
              "{'load_more_url': 'http://api.scraperapi.com/?url=https%3A%2F%2Fwww.google.com%2Fsearch%3Fq%3Dsite%3Atwitter.com%2B%2522amlo%2522%26num%3D25%26sca_esv%3D599547849%26gl%3DMX%26ei%3DdHipZbz8L-abptQP0tqB4AU%26start%3D25%26sa%3DN&autoparse=true',\n",
              " 'pages_count': 1}"
            ]
          },
          "metadata": {},
          "execution_count": 30
        }
      ]
    },
    {
      "cell_type": "code",
      "source": [
        "data['organic_results'][1]"
      ],
      "metadata": {
        "colab": {
          "base_uri": "https://localhost:8080/"
        },
        "id": "4lQAkTDe_6z7",
        "outputId": "4fd84931-848a-4ca6-f9a5-7868172a0983"
      },
      "execution_count": null,
      "outputs": [
        {
          "output_type": "execute_result",
          "data": {
            "text/plain": [
              "{'position': 1,\n",
              " 'title': 'Joaquín López-Dóriga (@lopezdoriga) / ...',\n",
              " 'snippet': '... democracia y por el pueblo”, ironizó. AMLO se lanza contra Lorenzo Córdova por ser único orador en la \"Marcha por nuestra democracia” · From lopezdoriga.com. 39.',\n",
              " 'highlighs': ['AMLO'],\n",
              " 'link': 'https://twitter.com/lopezdoriga',\n",
              " 'displayed_link': 'https://twitter.com › lopezdoriga'}"
            ]
          },
          "metadata": {},
          "execution_count": 40
        }
      ]
    },
    {
      "cell_type": "code",
      "source": [
        "data['organic_results'][1]['snippet']"
      ],
      "metadata": {
        "colab": {
          "base_uri": "https://localhost:8080/",
          "height": 53
        },
        "id": "R30ehqXZAMgd",
        "outputId": "b44f96b8-6e0b-4ab4-9909-77ce0da84346"
      },
      "execution_count": null,
      "outputs": [
        {
          "output_type": "execute_result",
          "data": {
            "text/plain": [
              "'... democracia y por el pueblo”, ironizó. AMLO se lanza contra Lorenzo Córdova por ser único orador en la \"Marcha por nuestra democracia” · From lopezdoriga.com. 39.'"
            ],
            "application/vnd.google.colaboratory.intrinsic+json": {
              "type": "string"
            }
          },
          "metadata": {},
          "execution_count": 41
        }
      ]
    },
    {
      "cell_type": "code",
      "source": [
        "all_tweets = data['organic_results']\n",
        "for tweet in all_tweets:\n",
        "  twitter_data.append(tweet)"
      ],
      "metadata": {
        "id": "grwBEkAoAndC"
      },
      "execution_count": null,
      "outputs": []
    },
    {
      "cell_type": "code",
      "source": [
        "df = pd.DataFrame(twitter_data)\n",
        "df.to_csv('twitter_data.csv')"
      ],
      "metadata": {
        "id": "-mpEMHIfle0n"
      },
      "execution_count": null,
      "outputs": []
    }
  ]
}