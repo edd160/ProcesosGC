{
  "nbformat": 4,
  "nbformat_minor": 0,
  "metadata": {
    "colab": {
      "provenance": []
    },
    "kernelspec": {
      "name": "python3",
      "display_name": "Python 3"
    },
    "language_info": {
      "name": "python"
    }
  },
  "cells": [
    {
      "cell_type": "code",
      "execution_count": 1,
      "metadata": {
        "id": "G_qrTBb5bjSn"
      },
      "outputs": [],
      "source": [
        "import tweepy\n",
        "import yaml"
      ]
    },
    {
      "cell_type": "code",
      "source": [
        "def twitConnection(creds):\n",
        "    #Define Keys\n",
        "    consumer_key = creds['twitter']['consumer_key']\n",
        "    consumer_secret = creds['twitter']['consumer_secret']\n",
        "\n",
        "    # Access:\n",
        "    access_token  = creds['twitter']['access_token']\n",
        "    access_secret = creds['twitter']['access_secret']\n",
        "\n",
        "    client = tweepy.Client(\n",
        "        consumer_key = consumer_key, consumer_secret=consumer_secret,\n",
        "        access_token=access_token, access_token_secret=access_secret)\n",
        "\n",
        "    return client\n",
        "\n",
        "#version 1 method\n",
        "def twitConnection_v1(creds):\n",
        "    #Define Keys\n",
        "    consumer_key = creds['twitter']['consumer_key']\n",
        "    consumer_secret = creds['twitter']['consumer_secret']\n",
        "\n",
        "    # Access:\n",
        "    access_token  = creds['twitter']['access_token']\n",
        "    access_secret = creds['twitter']['access_secret']\n",
        "\n",
        "    auth = tweepy.OAuth1UserHandler(consumer_key, consumer_secret)\n",
        "    auth.set_access_token(access_token, access_secret)\n",
        "\n",
        "    return tweepy.API(auth)"
      ],
      "metadata": {
        "id": "uLhMvuKKbqph"
      },
      "execution_count": 2,
      "outputs": []
    },
    {
      "cell_type": "code",
      "source": [
        "#if you want to know how this works - look at video: https://youtu.be/njMMhJz3X4g\n",
        "#load creds\n",
        "creds = yaml.load(open('social_credentials.yml'), Loader=yaml.FullLoader)"
      ],
      "metadata": {
        "id": "Cm8sl5PebsXH"
      },
      "execution_count": 3,
      "outputs": []
    },
    {
      "cell_type": "code",
      "source": [
        "client = twitConnection(creds)\n",
        "client_v1 = twitConnection_v1(creds)"
      ],
      "metadata": {
        "id": "DzGjhNYEb2yv"
      },
      "execution_count": 4,
      "outputs": []
    },
    {
      "cell_type": "code",
      "source": [
        "#example can be found here for basic post: https://youtu.be/HzmNUTg8xWU\n",
        "#post a msg\n",
        "msg = 'Mitad de semana con olor a finales de conferencia'\n",
        "response = client.create_tweet(text = msg)"
      ],
      "metadata": {
        "id": "j5V4xZNGb4s3"
      },
      "execution_count": 5,
      "outputs": []
    },
    {
      "cell_type": "code",
      "source": [
        "#identify media\n",
        "myMedia = r'Cafe.jpeg'"
      ],
      "metadata": {
        "id": "gTkn2N-CcyqL"
      },
      "execution_count": 6,
      "outputs": []
    },
    {
      "cell_type": "code",
      "source": [
        "#media preperation using version 1\n",
        "media = client_v1.media_upload(filename=myMedia)\n",
        "media_id = media.media_id"
      ],
      "metadata": {
        "id": "vDw6hwatdQF0"
      },
      "execution_count": 7,
      "outputs": []
    },
    {
      "cell_type": "code",
      "source": [
        "#post using version 2\n",
        "msg = 'Suplemento alimenticio'\n",
        "response = client.create_tweet(text = msg, media_ids = [media_id])"
      ],
      "metadata": {
        "id": "lrGW3owNdTUr"
      },
      "execution_count": 8,
      "outputs": []
    }
  ]
}