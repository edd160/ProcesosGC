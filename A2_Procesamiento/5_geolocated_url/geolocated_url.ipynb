{
  "nbformat": 4,
  "nbformat_minor": 0,
  "metadata": {
    "colab": {
      "provenance": []
    },
    "kernelspec": {
      "name": "python3",
      "display_name": "Python 3"
    },
    "language_info": {
      "name": "python"
    }
  },
  "cells": [
    {
      "cell_type": "code",
      "source": [
        "import requests\n",
        "import pandas as pd"
      ],
      "metadata": {
        "id": "2_Sj4UoWhpuM"
      },
      "execution_count": 2,
      "outputs": []
    },
    {
      "cell_type": "code",
      "source": [
        "import socket as s\n",
        "host = 'www.centrogeo.org.mx'\n",
        "ip = s.gethostbyname_ex(host)\n",
        "print(ip)"
      ],
      "metadata": {
        "colab": {
          "base_uri": "https://localhost:8080/"
        },
        "id": "AkQohGV6h7Nn",
        "outputId": "ef8a0fb7-6033-4b3d-ebf1-ceacd98a54de"
      },
      "execution_count": 16,
      "outputs": [
        {
          "output_type": "stream",
          "name": "stdout",
          "text": [
            "('www.centrogeo.org.mx', [], ['187.217.54.70'])\n"
          ]
        }
      ]
    },
    {
      "cell_type": "code",
      "source": [
        "response = requests.get(\"https://geolocation-db.com/json/187.217.54.70&position=true\").json()\n",
        "response"
      ],
      "metadata": {
        "colab": {
          "base_uri": "https://localhost:8080/"
        },
        "id": "h5tcz5bDjPbN",
        "outputId": "1ac6f380-750e-4d31-df85-987ac458843b"
      },
      "execution_count": 18,
      "outputs": [
        {
          "output_type": "execute_result",
          "data": {
            "text/plain": [
              "{'country_code': 'MX',\n",
              " 'country_name': 'Mexico',\n",
              " 'city': None,\n",
              " 'postal': None,\n",
              " 'latitude': 19.4371,\n",
              " 'longitude': -99.0111,\n",
              " 'IPv4': '187.217.54.70',\n",
              " 'state': None}"
            ]
          },
          "metadata": {},
          "execution_count": 18
        }
      ]
    },
    {
      "cell_type": "code",
      "source": [
        "url = ip[2][0]\n",
        "print(url)\n",
        "response = requests.get(\"https://geolocation-db.com/json/\"+str(url)+\"&position=true\").json()\n",
        "response"
      ],
      "metadata": {
        "colab": {
          "base_uri": "https://localhost:8080/"
        },
        "id": "q-WZ7UjojqW5",
        "outputId": "963bcb2e-9668-4786-eb19-638e9675b0c2"
      },
      "execution_count": 27,
      "outputs": [
        {
          "output_type": "stream",
          "name": "stdout",
          "text": [
            "187.217.54.70\n"
          ]
        },
        {
          "output_type": "execute_result",
          "data": {
            "text/plain": [
              "{'country_code': 'MX',\n",
              " 'country_name': 'Mexico',\n",
              " 'city': None,\n",
              " 'postal': None,\n",
              " 'latitude': 19.4371,\n",
              " 'longitude': -99.0111,\n",
              " 'IPv4': '187.217.54.70',\n",
              " 'state': None}"
            ]
          },
          "metadata": {},
          "execution_count": 27
        }
      ]
    },
    {
      "cell_type": "code",
      "source": [],
      "metadata": {
        "id": "YiD0wNqwj3KY"
      },
      "execution_count": null,
      "outputs": []
    }
  ]
}