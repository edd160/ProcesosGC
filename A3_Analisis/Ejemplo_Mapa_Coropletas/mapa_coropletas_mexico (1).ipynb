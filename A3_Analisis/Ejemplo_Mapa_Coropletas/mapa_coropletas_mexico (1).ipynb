{
 "cells": [
  {
   "cell_type": "code",
   "execution_count": 5,
   "id": "cb8e45f5-9428-47d2-91df-31ff1c47bebe",
   "metadata": {},
   "outputs": [],
   "source": [
    "import pandas as pd\n",
    "import seaborn as sns"
   ]
  },
  {
   "cell_type": "code",
   "execution_count": 22,
   "id": "33347a6e-7b01-478b-9e1f-619390d2fff1",
   "metadata": {},
   "outputs": [
    {
     "data": {
      "text/html": [
       "<div>\n",
       "<style scoped>\n",
       "    .dataframe tbody tr th:only-of-type {\n",
       "        vertical-align: middle;\n",
       "    }\n",
       "\n",
       "    .dataframe tbody tr th {\n",
       "        vertical-align: top;\n",
       "    }\n",
       "\n",
       "    .dataframe thead th {\n",
       "        text-align: right;\n",
       "    }\n",
       "</style>\n",
       "<table border=\"1\" class=\"dataframe\">\n",
       "  <thead>\n",
       "    <tr style=\"text-align: right;\">\n",
       "      <th></th>\n",
       "      <th>Unnamed: 0</th>\n",
       "      <th>ID</th>\n",
       "      <th>User</th>\n",
       "      <th>Date</th>\n",
       "      <th>Text</th>\n",
       "      <th>Latitude</th>\n",
       "      <th>Longitude</th>\n",
       "      <th>Sentiment</th>\n",
       "      <th>text_clean</th>\n",
       "      <th>num_tokens</th>\n",
       "      <th>X_IVSE</th>\n",
       "      <th>Y_IVSE</th>\n",
       "      <th>label</th>\n",
       "      <th>clase</th>\n",
       "      <th>Estado</th>\n",
       "    </tr>\n",
       "  </thead>\n",
       "  <tbody>\n",
       "    <tr>\n",
       "      <th>0</th>\n",
       "      <td>0</td>\n",
       "      <td>1432855872858902533</td>\n",
       "      <td>dobletocino</td>\n",
       "      <td>2021-09-01T00:00:35.000Z</td>\n",
       "      <td>Menos para la PDH allí las que sean para el enano</td>\n",
       "      <td>15.772467</td>\n",
       "      <td>-90.224221</td>\n",
       "      <td>neutro</td>\n",
       "      <td>menos para la pdh allí las que sean para el enano</td>\n",
       "      <td>11</td>\n",
       "      <td>3.194135</td>\n",
       "      <td>0.539131</td>\n",
       "      <td>0</td>\n",
       "      <td>No Depresión</td>\n",
       "      <td>FDM</td>\n",
       "    </tr>\n",
       "    <tr>\n",
       "      <th>1</th>\n",
       "      <td>1</td>\n",
       "      <td>1432855944933822465</td>\n",
       "      <td>albacos88</td>\n",
       "      <td>2021-09-01T00:00:53.000Z</td>\n",
       "      <td>Me encanta mamar verga y culos de los activos....</td>\n",
       "      <td>17.951259</td>\n",
       "      <td>-92.554062</td>\n",
       "      <td>positivo</td>\n",
       "      <td>me encanta mamar verga y culos de los activos</td>\n",
       "      <td>9</td>\n",
       "      <td>3.705558</td>\n",
       "      <td>0.464954</td>\n",
       "      <td>0</td>\n",
       "      <td>No Depresión</td>\n",
       "      <td>Tabasco</td>\n",
       "    </tr>\n",
       "    <tr>\n",
       "      <th>2</th>\n",
       "      <td>2</td>\n",
       "      <td>1432856008163053569</td>\n",
       "      <td>Brizz_Briseira</td>\n",
       "      <td>2021-09-01T00:01:08.000Z</td>\n",
       "      <td>@1HelenaConH Jajajaja 🤣 yo llegué al punto en ...</td>\n",
       "      <td>18.021960</td>\n",
       "      <td>-92.916500</td>\n",
       "      <td>positivo</td>\n",
       "      <td>jajajaja yo llegué al punto en que le dije señ...</td>\n",
       "      <td>25</td>\n",
       "      <td>2.208379</td>\n",
       "      <td>2.159584</td>\n",
       "      <td>0</td>\n",
       "      <td>No Depresión</td>\n",
       "      <td>Tabasco</td>\n",
       "    </tr>\n",
       "    <tr>\n",
       "      <th>3</th>\n",
       "      <td>3</td>\n",
       "      <td>1432856007860883465</td>\n",
       "      <td>MrMojoRisin259</td>\n",
       "      <td>2021-09-01T00:01:08.000Z</td>\n",
       "      <td>Hoy no me fue bien en el trabajo; me putearon,...</td>\n",
       "      <td>17.326071</td>\n",
       "      <td>-92.618475</td>\n",
       "      <td>negativo</td>\n",
       "      <td>hoy no me fue bien en el trabajo me putearon m...</td>\n",
       "      <td>37</td>\n",
       "      <td>1.296387</td>\n",
       "      <td>-1.009288</td>\n",
       "      <td>1</td>\n",
       "      <td>Depresión</td>\n",
       "      <td>Chiapas</td>\n",
       "    </tr>\n",
       "    <tr>\n",
       "      <th>4</th>\n",
       "      <td>4</td>\n",
       "      <td>1432856047035863045</td>\n",
       "      <td>MarilupeMtz</td>\n",
       "      <td>2021-09-01T00:01:17.000Z</td>\n",
       "      <td>👉Sehunda edición de nuestras actividades en #L...</td>\n",
       "      <td>18.135455</td>\n",
       "      <td>-94.432482</td>\n",
       "      <td>positivo</td>\n",
       "      <td>sehunda edición de nuestras actividades en com...</td>\n",
       "      <td>34</td>\n",
       "      <td>0.034186</td>\n",
       "      <td>1.629649</td>\n",
       "      <td>0</td>\n",
       "      <td>No Depresión</td>\n",
       "      <td>Veracruz</td>\n",
       "    </tr>\n",
       "  </tbody>\n",
       "</table>\n",
       "</div>"
      ],
      "text/plain": [
       "   Unnamed: 0                   ID            User                      Date  \\\n",
       "0           0  1432855872858902533     dobletocino  2021-09-01T00:00:35.000Z   \n",
       "1           1  1432855944933822465       albacos88  2021-09-01T00:00:53.000Z   \n",
       "2           2  1432856008163053569  Brizz_Briseira  2021-09-01T00:01:08.000Z   \n",
       "3           3  1432856007860883465  MrMojoRisin259  2021-09-01T00:01:08.000Z   \n",
       "4           4  1432856047035863045     MarilupeMtz  2021-09-01T00:01:17.000Z   \n",
       "\n",
       "                                                Text   Latitude  Longitude  \\\n",
       "0  Menos para la PDH allí las que sean para el enano  15.772467 -90.224221   \n",
       "1  Me encanta mamar verga y culos de los activos....  17.951259 -92.554062   \n",
       "2  @1HelenaConH Jajajaja 🤣 yo llegué al punto en ...  18.021960 -92.916500   \n",
       "3  Hoy no me fue bien en el trabajo; me putearon,...  17.326071 -92.618475   \n",
       "4  👉Sehunda edición de nuestras actividades en #L...  18.135455 -94.432482   \n",
       "\n",
       "  Sentiment                                         text_clean  num_tokens  \\\n",
       "0    neutro  menos para la pdh allí las que sean para el enano          11   \n",
       "1  positivo      me encanta mamar verga y culos de los activos           9   \n",
       "2  positivo  jajajaja yo llegué al punto en que le dije señ...          25   \n",
       "3  negativo  hoy no me fue bien en el trabajo me putearon m...          37   \n",
       "4  positivo  sehunda edición de nuestras actividades en com...          34   \n",
       "\n",
       "     X_IVSE    Y_IVSE  label         clase    Estado  \n",
       "0  3.194135  0.539131      0  No Depresión       FDM  \n",
       "1  3.705558  0.464954      0  No Depresión   Tabasco  \n",
       "2  2.208379  2.159584      0  No Depresión   Tabasco  \n",
       "3  1.296387 -1.009288      1     Depresión   Chiapas  \n",
       "4  0.034186  1.629649      0  No Depresión  Veracruz  "
      ]
     },
     "execution_count": 22,
     "metadata": {},
     "output_type": "execute_result"
    }
   ],
   "source": [
    "df = pd.read_csv('2021_tweets_coordenados.csv')\n",
    "df.head()"
   ]
  },
  {
   "cell_type": "code",
   "execution_count": 23,
   "id": "66bf90d1-fb1a-4e17-a923-4306c2fbabde",
   "metadata": {},
   "outputs": [
    {
     "data": {
      "text/plain": [
       "12106644"
      ]
     },
     "execution_count": 23,
     "metadata": {},
     "output_type": "execute_result"
    }
   ],
   "source": [
    "len(df)"
   ]
  },
  {
   "cell_type": "code",
   "execution_count": 24,
   "id": "c7cefaff-9b96-473e-aec9-7bb4046bf973",
   "metadata": {},
   "outputs": [
    {
     "data": {
      "text/plain": [
       "10947488"
      ]
     },
     "execution_count": 24,
     "metadata": {},
     "output_type": "execute_result"
    }
   ],
   "source": [
    "df = df[df['Estado'] != 'FDM']\n",
    "len(df)"
   ]
  },
  {
   "cell_type": "code",
   "execution_count": 25,
   "id": "d9e2258c-6a9b-40d1-80f8-07bd5bf2c16d",
   "metadata": {},
   "outputs": [
    {
     "data": {
      "text/plain": [
       "1000000"
      ]
     },
     "execution_count": 25,
     "metadata": {},
     "output_type": "execute_result"
    }
   ],
   "source": [
    "df = df.sample(1000000)\n",
    "len(df)"
   ]
  },
  {
   "cell_type": "code",
   "execution_count": 27,
   "id": "a2526de8-1517-485b-bab4-4c1e969d09fc",
   "metadata": {},
   "outputs": [
    {
     "data": {
      "text/plain": [
       "dtype('float64')"
      ]
     },
     "execution_count": 27,
     "metadata": {},
     "output_type": "execute_result"
    }
   ],
   "source": [
    "df['Latitude'].dtype"
   ]
  },
  {
   "cell_type": "code",
   "execution_count": 28,
   "id": "2daa7a0e-3acc-47d2-bb33-b1ed7d318d45",
   "metadata": {},
   "outputs": [
    {
     "data": {
      "text/plain": [
       "dtype('float64')"
      ]
     },
     "execution_count": 28,
     "metadata": {},
     "output_type": "execute_result"
    }
   ],
   "source": [
    "df['Longitude'].dtype"
   ]
  },
  {
   "cell_type": "code",
   "execution_count": 29,
   "id": "2b6e444e-2275-48de-ab90-94b84f2989af",
   "metadata": {},
   "outputs": [
    {
     "data": {
      "text/plain": [
       "dtype('O')"
      ]
     },
     "execution_count": 29,
     "metadata": {},
     "output_type": "execute_result"
    }
   ],
   "source": [
    "df['Text'].dtype"
   ]
  },
  {
   "cell_type": "code",
   "execution_count": 30,
   "id": "acd35675-1567-4253-bcae-301140c60a64",
   "metadata": {},
   "outputs": [],
   "source": [
    "df = df.drop(['ID', 'User', 'text_clean', 'num_tokens', 'X_IVSE','Y_IVSE','label','clase'], axis=1)"
   ]
  },
  {
   "cell_type": "code",
   "execution_count": 31,
   "id": "7063c6e9-98f0-4ebb-ba03-74c6dbc7f557",
   "metadata": {},
   "outputs": [
    {
     "data": {
      "text/html": [
       "<div>\n",
       "<style scoped>\n",
       "    .dataframe tbody tr th:only-of-type {\n",
       "        vertical-align: middle;\n",
       "    }\n",
       "\n",
       "    .dataframe tbody tr th {\n",
       "        vertical-align: top;\n",
       "    }\n",
       "\n",
       "    .dataframe thead th {\n",
       "        text-align: right;\n",
       "    }\n",
       "</style>\n",
       "<table border=\"1\" class=\"dataframe\">\n",
       "  <thead>\n",
       "    <tr style=\"text-align: right;\">\n",
       "      <th></th>\n",
       "      <th>Unnamed: 0</th>\n",
       "      <th>Date</th>\n",
       "      <th>Text</th>\n",
       "      <th>Latitude</th>\n",
       "      <th>Longitude</th>\n",
       "      <th>Sentiment</th>\n",
       "      <th>Estado</th>\n",
       "    </tr>\n",
       "  </thead>\n",
       "  <tbody>\n",
       "    <tr>\n",
       "      <th>8529968</th>\n",
       "      <td>8529968</td>\n",
       "      <td>2021-10-29T01:29:07.000Z</td>\n",
       "      <td>Ya salieron a la cancha Ochoa y Jiménez el abu...</td>\n",
       "      <td>25.676603</td>\n",
       "      <td>-100.196134</td>\n",
       "      <td>positivo</td>\n",
       "      <td>Nuevo León</td>\n",
       "    </tr>\n",
       "    <tr>\n",
       "      <th>4804639</th>\n",
       "      <td>4804639</td>\n",
       "      <td>2021-07-27T21:33:32.000Z</td>\n",
       "      <td>@Leonardo_Lo777 ahí vamos andar entonces</td>\n",
       "      <td>32.332876</td>\n",
       "      <td>-116.929102</td>\n",
       "      <td>positivo</td>\n",
       "      <td>Baja California Norte</td>\n",
       "    </tr>\n",
       "    <tr>\n",
       "      <th>5326386</th>\n",
       "      <td>5326386</td>\n",
       "      <td>2021-08-30T12:42:37.000Z</td>\n",
       "      <td>Que tengan una excelente semana, con excelenci...</td>\n",
       "      <td>19.380613</td>\n",
       "      <td>-99.161480</td>\n",
       "      <td>positivo</td>\n",
       "      <td>Ciudad de México</td>\n",
       "    </tr>\n",
       "    <tr>\n",
       "      <th>4832019</th>\n",
       "      <td>4832019</td>\n",
       "      <td>2021-08-01T00:23:20.000Z</td>\n",
       "      <td>Ahora suena #Scratch en #MexiquenseRadio @solo...</td>\n",
       "      <td>19.251531</td>\n",
       "      <td>-99.579915</td>\n",
       "      <td>positivo</td>\n",
       "      <td>Estado de México</td>\n",
       "    </tr>\n",
       "    <tr>\n",
       "      <th>6638465</th>\n",
       "      <td>6638465</td>\n",
       "      <td>2021-03-28T17:25:45.000Z</td>\n",
       "      <td>Mucho éxito, mi estimado @victorlozanop con tu...</td>\n",
       "      <td>20.941035</td>\n",
       "      <td>-89.623611</td>\n",
       "      <td>positivo</td>\n",
       "      <td>Yucatán</td>\n",
       "    </tr>\n",
       "  </tbody>\n",
       "</table>\n",
       "</div>"
      ],
      "text/plain": [
       "         Unnamed: 0                      Date  \\\n",
       "8529968     8529968  2021-10-29T01:29:07.000Z   \n",
       "4804639     4804639  2021-07-27T21:33:32.000Z   \n",
       "5326386     5326386  2021-08-30T12:42:37.000Z   \n",
       "4832019     4832019  2021-08-01T00:23:20.000Z   \n",
       "6638465     6638465  2021-03-28T17:25:45.000Z   \n",
       "\n",
       "                                                      Text   Latitude  \\\n",
       "8529968  Ya salieron a la cancha Ochoa y Jiménez el abu...  25.676603   \n",
       "4804639           @Leonardo_Lo777 ahí vamos andar entonces  32.332876   \n",
       "5326386  Que tengan una excelente semana, con excelenci...  19.380613   \n",
       "4832019  Ahora suena #Scratch en #MexiquenseRadio @solo...  19.251531   \n",
       "6638465  Mucho éxito, mi estimado @victorlozanop con tu...  20.941035   \n",
       "\n",
       "          Longitude Sentiment                 Estado  \n",
       "8529968 -100.196134  positivo             Nuevo León  \n",
       "4804639 -116.929102  positivo  Baja California Norte  \n",
       "5326386  -99.161480  positivo       Ciudad de México  \n",
       "4832019  -99.579915  positivo       Estado de México  \n",
       "6638465  -89.623611  positivo                Yucatán  "
      ]
     },
     "execution_count": 31,
     "metadata": {},
     "output_type": "execute_result"
    }
   ],
   "source": [
    "df.head()"
   ]
  },
  {
   "cell_type": "code",
   "execution_count": 32,
   "id": "467f17cc-3968-41d6-8fe4-dd7d720f2d50",
   "metadata": {},
   "outputs": [],
   "source": [
    "df.to_csv('muestra_tweets_2021.csv')"
   ]
  },
  {
   "cell_type": "code",
   "execution_count": 97,
   "id": "6f5bec1f-ffdf-42b0-8034-fc28e85334c0",
   "metadata": {},
   "outputs": [],
   "source": [
    "df = pd.read_csv('muestra_tweets_2021.csv')"
   ]
  },
  {
   "cell_type": "code",
   "execution_count": 98,
   "id": "baafec40-4c3d-4f15-9ea9-99e15bbacfdb",
   "metadata": {},
   "outputs": [
    {
     "data": {
      "text/plain": [
       "1000000"
      ]
     },
     "execution_count": 98,
     "metadata": {},
     "output_type": "execute_result"
    }
   ],
   "source": [
    "len(df)"
   ]
  },
  {
   "cell_type": "code",
   "execution_count": 99,
   "id": "d8e7ad6f-b430-4165-b2de-22174cc0a633",
   "metadata": {},
   "outputs": [
    {
     "data": {
      "text/html": [
       "<div>\n",
       "<style scoped>\n",
       "    .dataframe tbody tr th:only-of-type {\n",
       "        vertical-align: middle;\n",
       "    }\n",
       "\n",
       "    .dataframe tbody tr th {\n",
       "        vertical-align: top;\n",
       "    }\n",
       "\n",
       "    .dataframe thead th {\n",
       "        text-align: right;\n",
       "    }\n",
       "</style>\n",
       "<table border=\"1\" class=\"dataframe\">\n",
       "  <thead>\n",
       "    <tr style=\"text-align: right;\">\n",
       "      <th></th>\n",
       "      <th>Unnamed: 0.1</th>\n",
       "      <th>Unnamed: 0</th>\n",
       "      <th>Date</th>\n",
       "      <th>Text</th>\n",
       "      <th>Latitude</th>\n",
       "      <th>Longitude</th>\n",
       "      <th>Sentiment</th>\n",
       "      <th>Estado</th>\n",
       "    </tr>\n",
       "  </thead>\n",
       "  <tbody>\n",
       "    <tr>\n",
       "      <th>0</th>\n",
       "      <td>8529968</td>\n",
       "      <td>8529968</td>\n",
       "      <td>2021-10-29T01:29:07.000Z</td>\n",
       "      <td>Ya salieron a la cancha Ochoa y Jiménez el abu...</td>\n",
       "      <td>25.676603</td>\n",
       "      <td>-100.196134</td>\n",
       "      <td>positivo</td>\n",
       "      <td>Nuevo León</td>\n",
       "    </tr>\n",
       "    <tr>\n",
       "      <th>1</th>\n",
       "      <td>4804639</td>\n",
       "      <td>4804639</td>\n",
       "      <td>2021-07-27T21:33:32.000Z</td>\n",
       "      <td>@Leonardo_Lo777 ahí vamos andar entonces</td>\n",
       "      <td>32.332876</td>\n",
       "      <td>-116.929102</td>\n",
       "      <td>positivo</td>\n",
       "      <td>Baja California Norte</td>\n",
       "    </tr>\n",
       "    <tr>\n",
       "      <th>2</th>\n",
       "      <td>5326386</td>\n",
       "      <td>5326386</td>\n",
       "      <td>2021-08-30T12:42:37.000Z</td>\n",
       "      <td>Que tengan una excelente semana, con excelenci...</td>\n",
       "      <td>19.380613</td>\n",
       "      <td>-99.161480</td>\n",
       "      <td>positivo</td>\n",
       "      <td>Ciudad de México</td>\n",
       "    </tr>\n",
       "    <tr>\n",
       "      <th>3</th>\n",
       "      <td>4832019</td>\n",
       "      <td>4832019</td>\n",
       "      <td>2021-08-01T00:23:20.000Z</td>\n",
       "      <td>Ahora suena #Scratch en #MexiquenseRadio @solo...</td>\n",
       "      <td>19.251531</td>\n",
       "      <td>-99.579915</td>\n",
       "      <td>positivo</td>\n",
       "      <td>Estado de México</td>\n",
       "    </tr>\n",
       "    <tr>\n",
       "      <th>4</th>\n",
       "      <td>6638465</td>\n",
       "      <td>6638465</td>\n",
       "      <td>2021-03-28T17:25:45.000Z</td>\n",
       "      <td>Mucho éxito, mi estimado @victorlozanop con tu...</td>\n",
       "      <td>20.941035</td>\n",
       "      <td>-89.623611</td>\n",
       "      <td>positivo</td>\n",
       "      <td>Yucatán</td>\n",
       "    </tr>\n",
       "  </tbody>\n",
       "</table>\n",
       "</div>"
      ],
      "text/plain": [
       "   Unnamed: 0.1  Unnamed: 0                      Date  \\\n",
       "0       8529968     8529968  2021-10-29T01:29:07.000Z   \n",
       "1       4804639     4804639  2021-07-27T21:33:32.000Z   \n",
       "2       5326386     5326386  2021-08-30T12:42:37.000Z   \n",
       "3       4832019     4832019  2021-08-01T00:23:20.000Z   \n",
       "4       6638465     6638465  2021-03-28T17:25:45.000Z   \n",
       "\n",
       "                                                Text   Latitude   Longitude  \\\n",
       "0  Ya salieron a la cancha Ochoa y Jiménez el abu...  25.676603 -100.196134   \n",
       "1           @Leonardo_Lo777 ahí vamos andar entonces  32.332876 -116.929102   \n",
       "2  Que tengan una excelente semana, con excelenci...  19.380613  -99.161480   \n",
       "3  Ahora suena #Scratch en #MexiquenseRadio @solo...  19.251531  -99.579915   \n",
       "4  Mucho éxito, mi estimado @victorlozanop con tu...  20.941035  -89.623611   \n",
       "\n",
       "  Sentiment                 Estado  \n",
       "0  positivo             Nuevo León  \n",
       "1  positivo  Baja California Norte  \n",
       "2  positivo       Ciudad de México  \n",
       "3  positivo       Estado de México  \n",
       "4  positivo                Yucatán  "
      ]
     },
     "execution_count": 99,
     "metadata": {},
     "output_type": "execute_result"
    }
   ],
   "source": [
    "df = df[(df['Sentiment'] == 'positivo') | (df['Sentiment'] == 'negativo')]\n",
    "df.head()"
   ]
  },
  {
   "cell_type": "code",
   "execution_count": 100,
   "id": "31379caa-03ba-4f12-a821-8c8f90d08440",
   "metadata": {},
   "outputs": [
    {
     "data": {
      "text/plain": [
       "695479"
      ]
     },
     "execution_count": 100,
     "metadata": {},
     "output_type": "execute_result"
    }
   ],
   "source": [
    "len(df)"
   ]
  },
  {
   "cell_type": "code",
   "execution_count": 101,
   "id": "671c22ef-6c3e-4db3-8411-a11fd725b95e",
   "metadata": {},
   "outputs": [
    {
     "name": "stdout",
     "output_type": "stream",
     "text": [
      "Sentiment\n",
      "positivo    384723\n",
      "negativo    310756\n",
      "Name: count, dtype: int64\n"
     ]
    },
    {
     "data": {
      "text/plain": [
       "<Axes: xlabel='Sentiment'>"
      ]
     },
     "execution_count": 101,
     "metadata": {},
     "output_type": "execute_result"
    },
    {
     "data": {
      "image/png": "[encoded data removed]",
      "text/plain": [
       "<Figure size 640x480 with 1 Axes>"
      ]
     },
     "metadata": {},
     "output_type": "display_data"
    }
   ],
   "source": [
    "vc=df['Sentiment'].value_counts()\n",
    "print(vc)\n",
    "sns.barplot(x=vc.index, y=vc.values)"
   ]
  },
  {
   "cell_type": "code",
   "execution_count": 102,
   "id": "f402c169-8c9c-421a-a6bf-d6fff8c1b742",
   "metadata": {},
   "outputs": [],
   "source": [
    "df = df[df['Sentiment'] == 'positivo']"
   ]
  },
  {
   "cell_type": "code",
   "execution_count": 103,
   "id": "b24d7fdc-34b6-4ff9-8cc4-6afb17f844b0",
   "metadata": {},
   "outputs": [
    {
     "data": {
      "text/plain": [
       "384723"
      ]
     },
     "execution_count": 103,
     "metadata": {},
     "output_type": "execute_result"
    }
   ],
   "source": [
    "len(df)"
   ]
  },
  {
   "cell_type": "code",
   "execution_count": 104,
   "id": "464ea18e-7b7f-402e-bd7c-9c8b90d7ea1f",
   "metadata": {},
   "outputs": [],
   "source": [
    "df_positivos = df.groupby(['Estado'])['Sentiment'].count().reset_index()"
   ]
  },
  {
   "cell_type": "code",
   "execution_count": 105,
   "id": "71a71671-251d-45ed-9f11-dd91b856ad45",
   "metadata": {},
   "outputs": [
    {
     "data": {
      "text/html": [
       "<div>\n",
       "<style scoped>\n",
       "    .dataframe tbody tr th:only-of-type {\n",
       "        vertical-align: middle;\n",
       "    }\n",
       "\n",
       "    .dataframe tbody tr th {\n",
       "        vertical-align: top;\n",
       "    }\n",
       "\n",
       "    .dataframe thead th {\n",
       "        text-align: right;\n",
       "    }\n",
       "</style>\n",
       "<table border=\"1\" class=\"dataframe\">\n",
       "  <thead>\n",
       "    <tr style=\"text-align: right;\">\n",
       "      <th></th>\n",
       "      <th>Estado</th>\n",
       "      <th>Sentiment</th>\n",
       "    </tr>\n",
       "  </thead>\n",
       "  <tbody>\n",
       "    <tr>\n",
       "      <th>0</th>\n",
       "      <td>Aguascalientes</td>\n",
       "      <td>3343</td>\n",
       "    </tr>\n",
       "    <tr>\n",
       "      <th>1</th>\n",
       "      <td>Baja California Norte</td>\n",
       "      <td>4916</td>\n",
       "    </tr>\n",
       "    <tr>\n",
       "      <th>2</th>\n",
       "      <td>Baja California Sur</td>\n",
       "      <td>1487</td>\n",
       "    </tr>\n",
       "    <tr>\n",
       "      <th>3</th>\n",
       "      <td>Campeche</td>\n",
       "      <td>2885</td>\n",
       "    </tr>\n",
       "    <tr>\n",
       "      <th>4</th>\n",
       "      <td>Chiapas</td>\n",
       "      <td>4903</td>\n",
       "    </tr>\n",
       "  </tbody>\n",
       "</table>\n",
       "</div>"
      ],
      "text/plain": [
       "                  Estado  Sentiment\n",
       "0         Aguascalientes       3343\n",
       "1  Baja California Norte       4916\n",
       "2    Baja California Sur       1487\n",
       "3               Campeche       2885\n",
       "4                Chiapas       4903"
      ]
     },
     "execution_count": 105,
     "metadata": {},
     "output_type": "execute_result"
    }
   ],
   "source": [
    "df_positivos.head()"
   ]
  },
  {
   "cell_type": "code",
   "execution_count": 106,
   "id": "ff2ac8f9-46f1-4949-be8d-82a36cc3c6f4",
   "metadata": {},
   "outputs": [],
   "source": [
    "def dime_cve_estado(estado):\n",
    "    if estado == 'Zacatecas':\n",
    "        return 'ZAC'\n",
    "    elif estado == 'Yucatán':\n",
    "        return 'YUC'\n",
    "    elif estado == 'Veracruz':\n",
    "        return 'VER'\n",
    "    elif estado == 'Tlaxcala':\n",
    "        return 'TLA'\n",
    "    elif estado == 'Tamaulipas':\n",
    "        return 'TAM'\n",
    "    elif estado == 'Tabasco':\n",
    "        return 'TAB'\n",
    "    elif estado == 'Sonora':\n",
    "        return 'SON'\n",
    "    elif estado == 'Sinaloa':\n",
    "        return 'SIN'\n",
    "    elif estado == 'San Luis Potosí':\n",
    "        return 'SLP'\n",
    "    elif estado == 'Quintana Roo':\n",
    "        return 'ROO'\n",
    "    elif estado == 'Queretaro':\n",
    "        return 'QUE'\n",
    "    elif estado == 'Puebla':\n",
    "        return 'PUE'\n",
    "    elif estado == 'Oaxaca':\n",
    "        return 'OAX'\n",
    "    elif estado == 'Nuevo León':\n",
    "        return 'NLE'\n",
    "    elif estado == 'Nayarit':\n",
    "        return 'NAY'\n",
    "    elif estado == 'Morelos':\n",
    "        return 'MOR'\n",
    "    elif estado == 'Michoacán':\n",
    "        return 'MIC'\n",
    "    elif estado == 'Estado de México':\n",
    "        return 'MEX'\n",
    "    elif estado == 'Jalisco':\n",
    "        return 'JAL'\n",
    "    elif estado == 'Hidalgo':\n",
    "        return 'HID'\n",
    "    elif estado == 'Guerrero':\n",
    "        return 'GRO'\n",
    "    elif estado == 'Guanajuato':\n",
    "        return 'GUA'\n",
    "    elif estado == 'Durango':\n",
    "        return 'DUR'\n",
    "    elif estado == 'Ciudad de México':\n",
    "        return 'CMX'\n",
    "    elif estado == 'Colima':\n",
    "        return 'COL'\n",
    "    elif estado == 'Coahuila':\n",
    "        return 'COA'\n",
    "    elif estado == 'Chihuahua':\n",
    "        return 'CHH'\n",
    "    elif estado == 'Chiapas':\n",
    "        return 'CHP'\n",
    "    elif estado == 'Campeche':\n",
    "        return 'CAM'\n",
    "    elif estado == 'Baja California Sur':\n",
    "        return 'BCS'\n",
    "    elif estado == 'Baja California Norte':\n",
    "        return 'BCN'\n",
    "    elif estado == 'Aguascalientes':\n",
    "        return 'AGU'"
   ]
  },
  {
   "cell_type": "code",
   "execution_count": 107,
   "id": "cd992bc8-bd03-4eda-b006-4705a4735ee4",
   "metadata": {},
   "outputs": [],
   "source": [
    "df_positivos['cve_edo'] = df_positivos.apply(lambda x: dime_cve_estado(x['Estado']), axis=1)"
   ]
  },
  {
   "cell_type": "code",
   "execution_count": 108,
   "id": "fbcb62cd-70a6-450a-b8af-78c235b32548",
   "metadata": {},
   "outputs": [
    {
     "data": {
      "text/html": [
       "<div>\n",
       "<style scoped>\n",
       "    .dataframe tbody tr th:only-of-type {\n",
       "        vertical-align: middle;\n",
       "    }\n",
       "\n",
       "    .dataframe tbody tr th {\n",
       "        vertical-align: top;\n",
       "    }\n",
       "\n",
       "    .dataframe thead th {\n",
       "        text-align: right;\n",
       "    }\n",
       "</style>\n",
       "<table border=\"1\" class=\"dataframe\">\n",
       "  <thead>\n",
       "    <tr style=\"text-align: right;\">\n",
       "      <th></th>\n",
       "      <th>Estado</th>\n",
       "      <th>Sentiment</th>\n",
       "      <th>cve_edo</th>\n",
       "    </tr>\n",
       "  </thead>\n",
       "  <tbody>\n",
       "    <tr>\n",
       "      <th>0</th>\n",
       "      <td>Aguascalientes</td>\n",
       "      <td>3343</td>\n",
       "      <td>AGU</td>\n",
       "    </tr>\n",
       "    <tr>\n",
       "      <th>1</th>\n",
       "      <td>Baja California Norte</td>\n",
       "      <td>4916</td>\n",
       "      <td>BCN</td>\n",
       "    </tr>\n",
       "    <tr>\n",
       "      <th>2</th>\n",
       "      <td>Baja California Sur</td>\n",
       "      <td>1487</td>\n",
       "      <td>BCS</td>\n",
       "    </tr>\n",
       "    <tr>\n",
       "      <th>3</th>\n",
       "      <td>Campeche</td>\n",
       "      <td>2885</td>\n",
       "      <td>CAM</td>\n",
       "    </tr>\n",
       "    <tr>\n",
       "      <th>4</th>\n",
       "      <td>Chiapas</td>\n",
       "      <td>4903</td>\n",
       "      <td>CHP</td>\n",
       "    </tr>\n",
       "    <tr>\n",
       "      <th>5</th>\n",
       "      <td>Chihuahua</td>\n",
       "      <td>6219</td>\n",
       "      <td>CHH</td>\n",
       "    </tr>\n",
       "    <tr>\n",
       "      <th>6</th>\n",
       "      <td>Ciudad de México</td>\n",
       "      <td>60776</td>\n",
       "      <td>CMX</td>\n",
       "    </tr>\n",
       "    <tr>\n",
       "      <th>7</th>\n",
       "      <td>Coahuila</td>\n",
       "      <td>12145</td>\n",
       "      <td>COA</td>\n",
       "    </tr>\n",
       "    <tr>\n",
       "      <th>8</th>\n",
       "      <td>Colima</td>\n",
       "      <td>1586</td>\n",
       "      <td>COL</td>\n",
       "    </tr>\n",
       "    <tr>\n",
       "      <th>9</th>\n",
       "      <td>Durango</td>\n",
       "      <td>3495</td>\n",
       "      <td>DUR</td>\n",
       "    </tr>\n",
       "    <tr>\n",
       "      <th>10</th>\n",
       "      <td>Estado de México</td>\n",
       "      <td>56430</td>\n",
       "      <td>MEX</td>\n",
       "    </tr>\n",
       "    <tr>\n",
       "      <th>11</th>\n",
       "      <td>Guanajuato</td>\n",
       "      <td>13329</td>\n",
       "      <td>GUA</td>\n",
       "    </tr>\n",
       "    <tr>\n",
       "      <th>12</th>\n",
       "      <td>Guerrero</td>\n",
       "      <td>5283</td>\n",
       "      <td>GRO</td>\n",
       "    </tr>\n",
       "    <tr>\n",
       "      <th>13</th>\n",
       "      <td>Hidalgo</td>\n",
       "      <td>5284</td>\n",
       "      <td>HID</td>\n",
       "    </tr>\n",
       "    <tr>\n",
       "      <th>14</th>\n",
       "      <td>Jalisco</td>\n",
       "      <td>30804</td>\n",
       "      <td>JAL</td>\n",
       "    </tr>\n",
       "    <tr>\n",
       "      <th>15</th>\n",
       "      <td>Michoacán</td>\n",
       "      <td>4893</td>\n",
       "      <td>MIC</td>\n",
       "    </tr>\n",
       "    <tr>\n",
       "      <th>16</th>\n",
       "      <td>Morelos</td>\n",
       "      <td>6411</td>\n",
       "      <td>MOR</td>\n",
       "    </tr>\n",
       "    <tr>\n",
       "      <th>17</th>\n",
       "      <td>Nayarit</td>\n",
       "      <td>1945</td>\n",
       "      <td>NAY</td>\n",
       "    </tr>\n",
       "    <tr>\n",
       "      <th>18</th>\n",
       "      <td>Nuevo León</td>\n",
       "      <td>38545</td>\n",
       "      <td>NLE</td>\n",
       "    </tr>\n",
       "    <tr>\n",
       "      <th>19</th>\n",
       "      <td>Oaxaca</td>\n",
       "      <td>5020</td>\n",
       "      <td>OAX</td>\n",
       "    </tr>\n",
       "    <tr>\n",
       "      <th>20</th>\n",
       "      <td>Puebla</td>\n",
       "      <td>17763</td>\n",
       "      <td>PUE</td>\n",
       "    </tr>\n",
       "    <tr>\n",
       "      <th>21</th>\n",
       "      <td>Queretaro</td>\n",
       "      <td>10836</td>\n",
       "      <td>QUE</td>\n",
       "    </tr>\n",
       "    <tr>\n",
       "      <th>22</th>\n",
       "      <td>Quintana Roo</td>\n",
       "      <td>12306</td>\n",
       "      <td>ROO</td>\n",
       "    </tr>\n",
       "    <tr>\n",
       "      <th>23</th>\n",
       "      <td>San Luis Potosí</td>\n",
       "      <td>6247</td>\n",
       "      <td>SLP</td>\n",
       "    </tr>\n",
       "    <tr>\n",
       "      <th>24</th>\n",
       "      <td>Sinaloa</td>\n",
       "      <td>8653</td>\n",
       "      <td>SIN</td>\n",
       "    </tr>\n",
       "    <tr>\n",
       "      <th>25</th>\n",
       "      <td>Sonora</td>\n",
       "      <td>10982</td>\n",
       "      <td>SON</td>\n",
       "    </tr>\n",
       "    <tr>\n",
       "      <th>26</th>\n",
       "      <td>Tabasco</td>\n",
       "      <td>7741</td>\n",
       "      <td>TAB</td>\n",
       "    </tr>\n",
       "    <tr>\n",
       "      <th>27</th>\n",
       "      <td>Tamaulipas</td>\n",
       "      <td>10256</td>\n",
       "      <td>TAM</td>\n",
       "    </tr>\n",
       "    <tr>\n",
       "      <th>28</th>\n",
       "      <td>Tlaxcala</td>\n",
       "      <td>1767</td>\n",
       "      <td>TLA</td>\n",
       "    </tr>\n",
       "    <tr>\n",
       "      <th>29</th>\n",
       "      <td>Veracruz</td>\n",
       "      <td>14140</td>\n",
       "      <td>VER</td>\n",
       "    </tr>\n",
       "    <tr>\n",
       "      <th>30</th>\n",
       "      <td>Yucatán</td>\n",
       "      <td>11097</td>\n",
       "      <td>YUC</td>\n",
       "    </tr>\n",
       "    <tr>\n",
       "      <th>31</th>\n",
       "      <td>Zacatecas</td>\n",
       "      <td>3236</td>\n",
       "      <td>ZAC</td>\n",
       "    </tr>\n",
       "  </tbody>\n",
       "</table>\n",
       "</div>"
      ],
      "text/plain": [
       "                   Estado  Sentiment cve_edo\n",
       "0          Aguascalientes       3343     AGU\n",
       "1   Baja California Norte       4916     BCN\n",
       "2     Baja California Sur       1487     BCS\n",
       "3                Campeche       2885     CAM\n",
       "4                 Chiapas       4903     CHP\n",
       "5               Chihuahua       6219     CHH\n",
       "6        Ciudad de México      60776     CMX\n",
       "7                Coahuila      12145     COA\n",
       "8                  Colima       1586     COL\n",
       "9                 Durango       3495     DUR\n",
       "10       Estado de México      56430     MEX\n",
       "11             Guanajuato      13329     GUA\n",
       "12               Guerrero       5283     GRO\n",
       "13                Hidalgo       5284     HID\n",
       "14                Jalisco      30804     JAL\n",
       "15              Michoacán       4893     MIC\n",
       "16                Morelos       6411     MOR\n",
       "17                Nayarit       1945     NAY\n",
       "18             Nuevo León      38545     NLE\n",
       "19                 Oaxaca       5020     OAX\n",
       "20                 Puebla      17763     PUE\n",
       "21              Queretaro      10836     QUE\n",
       "22           Quintana Roo      12306     ROO\n",
       "23        San Luis Potosí       6247     SLP\n",
       "24                Sinaloa       8653     SIN\n",
       "25                 Sonora      10982     SON\n",
       "26                Tabasco       7741     TAB\n",
       "27             Tamaulipas      10256     TAM\n",
       "28               Tlaxcala       1767     TLA\n",
       "29               Veracruz      14140     VER\n",
       "30                Yucatán      11097     YUC\n",
       "31              Zacatecas       3236     ZAC"
      ]
     },
     "execution_count": 108,
     "metadata": {},
     "output_type": "execute_result"
    }
   ],
   "source": [
    "df_positivos"
   ]
  },
  {
   "cell_type": "code",
   "execution_count": 109,
   "id": "4245decc-55c4-4279-8817-b48f7600448e",
   "metadata": {},
   "outputs": [],
   "source": [
    "size = len(df_positivos)\n",
    "i = 1\n",
    "data = \"\"\n",
    "for index, row in df_positivos.iterrows():\n",
    "    cve_edo = row['cve_edo']\n",
    "    valor = row['Sentiment']\n",
    "    if i < size:\n",
    "        data = data+\"{ id: 'MX-\"+cve_edo+\"', \"+\"value:\"+str(valor)+\" },\"\n",
    "        i+=1\n",
    "    else:\n",
    "        data = data+\"{ id: 'MX-\"+cve_edo+\"', \"+\"value:\"+str(valor)+\" }\""
   ]
  },
  {
   "cell_type": "code",
   "execution_count": 110,
   "id": "1f6d0dd5-01e8-4050-8e44-89c0b0295e53",
   "metadata": {},
   "outputs": [
    {
     "data": {
      "text/plain": [
       "\"{ id: 'MX-AGU', value:3343 },{ id: 'MX-BCN', value:4916 },{ id: 'MX-BCS', value:1487 },{ id: 'MX-CAM', value:2885 },{ id: 'MX-CHP', value:4903 },{ id: 'MX-CHH', value:6219 },{ id: 'MX-CMX', value:60776 },{ id: 'MX-COA', value:12145 },{ id: 'MX-COL', value:1586 },{ id: 'MX-DUR', value:3495 },{ id: 'MX-MEX', value:56430 },{ id: 'MX-GUA', value:13329 },{ id: 'MX-GRO', value:5283 },{ id: 'MX-HID', value:5284 },{ id: 'MX-JAL', value:30804 },{ id: 'MX-MIC', value:4893 },{ id: 'MX-MOR', value:6411 },{ id: 'MX-NAY', value:1945 },{ id: 'MX-NLE', value:38545 },{ id: 'MX-OAX', value:5020 },{ id: 'MX-PUE', value:17763 },{ id: 'MX-QUE', value:10836 },{ id: 'MX-ROO', value:12306 },{ id: 'MX-SLP', value:6247 },{ id: 'MX-SIN', value:8653 },{ id: 'MX-SON', value:10982 },{ id: 'MX-TAB', value:7741 },{ id: 'MX-TAM', value:10256 },{ id: 'MX-TLA', value:1767 },{ id: 'MX-VER', value:14140 },{ id: 'MX-YUC', value:11097 },{ id: 'MX-ZAC', value:3236 }\""
      ]
     },
     "execution_count": 110,
     "metadata": {},
     "output_type": "execute_result"
    }
   ],
   "source": [
    "data"
   ]
  },
  {
   "cell_type": "code",
   "execution_count": null,
   "id": "e9551731-79fd-4134-98b9-91b5b3131b52",
   "metadata": {},
   "outputs": [],
   "source": []
  }
 ],
 "metadata": {
  "kernelspec": {
   "display_name": "Python 3 (ipykernel)",
   "language": "python",
   "name": "python3"
  },
  "language_info": {
   "codemirror_mode": {
    "name": "ipython",
    "version": 3
   },
   "file_extension": ".py",
   "mimetype": "text/x-python",
   "name": "python",
   "nbconvert_exporter": "python",
   "pygments_lexer": "ipython3",
   "version": "3.11.7"
  }
 },
 "nbformat": 4,
 "nbformat_minor": 5
}
