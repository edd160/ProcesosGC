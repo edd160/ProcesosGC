{
 "cells": [
  {
   "cell_type": "markdown",
   "id": "65fad2fa",
   "metadata": {},
   "source": [
    "## Segunda Práctica"
   ]
  },
  {
   "cell_type": "markdown",
   "id": "6a22bfcb",
   "metadata": {},
   "source": [
    "A partir del csv con la muestra de tweets hacer lo siguiente:\n",
    "\n",
    "1. Cargar en geodataframes la lista de agebs rurales y urbanos de la Ciudad de México\n",
    "2. Plotear cada uno de los dataframes\n",
    "3. Unir ambos dataframes con la función concat, por ejemplo: \n",
    "\n",
    "urbano_rural_cdmx = gpd.pd.concat([agebs_urbanas, agebs_rurales])\n",
    "\n",
    "4. Leer el archivo con los tweets de muestra creado en la práctica anterior.\n",
    "5. Filtrar los tweets de la Ciudad de México\n",
    "6. Agregar una columna para colocar la clave de ageb\n",
    "7. Calcular el tamaño del dataframe que contiene los agebs rurales y urbanos de Ciudad de México\n",
    "8. Definir una función que reciba los valores de latitud y longitud de los tweets y les asige la clave de ageb correspondiente\n",
    "9. Definir una función que envíe los valores de latitud y longitud de los tweets a la funcion anterior\n",
    "10. Calcular el número de procesadores que se tienen disponibles\n",
    "11. Definir una función que divida el dataframe original en tantos datraframes como número de procesadores disponibles se tenga\n",
    "12. Llamar a la función definida en el punto 11 y almacenar el dataframe resultante en un archivo csv. \n",
    "13. Mostrar el head() del dataframe resultante. "
   ]
  },
  {
   "cell_type": "code",
   "execution_count": 1,
   "id": "7ec29fcb",
   "metadata": {},
   "outputs": [],
   "source": [
    "import pandas as pd\n",
    "import geopandas as gpd\n",
    "import shapely\n",
    "from shapely import wkt\n",
    "from shapely.geometry import Polygon, Point\n",
    "import numpy as np\n",
    "from multiprocessing import Pool"
   ]
  },
  {
   "cell_type": "code",
   "execution_count": 2,
   "id": "ac711fae",
   "metadata": {},
   "outputs": [],
   "source": [
    "mapa = gpd.read_file('poligonos_agebs_cdmx/poligono_ageb_rurales_cdmx.shp')"
   ]
  },
  {
   "cell_type": "code",
   "execution_count": null,
   "id": "b7369f17",
   "metadata": {},
   "outputs": [],
   "source": []
  }
 ],
 "metadata": {
  "kernelspec": {
   "display_name": "Python 3 (ipykernel)",
   "language": "python",
   "name": "python3"
  },
  "language_info": {
   "codemirror_mode": {
    "name": "ipython",
    "version": 3
   },
   "file_extension": ".py",
   "mimetype": "text/x-python",
   "name": "python",
   "nbconvert_exporter": "python",
   "pygments_lexer": "ipython3",
   "version": "3.11.4"
  }
 },
 "nbformat": 4,
 "nbformat_minor": 5
}
